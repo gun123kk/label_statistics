{
 "cells": [
  {
   "cell_type": "code",
   "execution_count": null,
   "metadata": {},
   "outputs": [],
   "source": [
    "import rank_statistics_data as RSD\n",
    "file_path = './file/'"
   ]
  },
  {
   "cell_type": "code",
   "execution_count": null,
   "metadata": {},
   "outputs": [],
   "source": [
    "rsd = RSD.rank_stcs_data(file_path)"
   ]
  },
  {
   "cell_type": "code",
   "execution_count": null,
   "metadata": {},
   "outputs": [],
   "source": [
    "import json\n",
    "with open('./file/105360031_潘柏宇/Drone_001-export.json', 'r') as reader:     \n",
    "# with open('./file/107999401_Ari_Ernesto/Drone_30-export.json', 'r') as reader:\n",
    "# with open('./file/105360747_高士傑/Drone_049-export.json', 'r') as reader:\n",
    "    jf = json.loads(reader.read())\n",
    "\n",
    "# print(len(jf['assets']))\n",
    "# print(jf['assets']['50000736ab45739bfbb8ebfd75d94ded']['regions'][0]['tags'])"
   ]
  },
  {
   "cell_type": "code",
   "execution_count": null,
   "metadata": {},
   "outputs": [],
   "source": [
    "for i in jf['assets']:\n",
    "#     print(i)\n",
    "#     print(jf['assets'][i]['regions'][0]['tags'][0])\n",
    "    try:\n",
    "        for j in jf['assets'][i]['regions']:\n",
    "            try:\n",
    "                for k in range(len(jf['assets'][i]['regions'])):\n",
    "#                     print(k)\n",
    "                    try:\n",
    "                        for l in range(len(jf['assets'][i]['regions'][k]['tags'])):\n",
    "                            print(jf['assets'][i]['regions'][k]['tags'][l])\n",
    "                    except:\n",
    "                        print('wrong format0')\n",
    "            except:\n",
    "                print('wrong format1')   \n",
    "                \n",
    "#             print(j)\n",
    "    except:                                  \n",
    "        print('wrong format2')   "
   ]
  },
  {
   "cell_type": "code",
   "execution_count": null,
   "metadata": {},
   "outputs": [],
   "source": [
    "import json\n",
    "with open('./file/106360119_謝佩芸/Drone_020/0a6ab8cfc6e6bbd2502f1819ecfe8561-asset.json', 'r') as reader:      \n",
    "    jf = json.loads(reader.read())\n",
    "index = 0\n",
    "\n",
    "print(jf['regions'][0]['tags'])"
   ]
  }
 ],
 "metadata": {
  "kernelspec": {
   "display_name": "Python 3",
   "language": "python",
   "name": "python3"
  },
  "language_info": {
   "codemirror_mode": {
    "name": "ipython",
    "version": 3
   },
   "file_extension": ".py",
   "mimetype": "text/x-python",
   "name": "python",
   "nbconvert_exporter": "python",
   "pygments_lexer": "ipython3",
   "version": "3.7.4"
  }
 },
 "nbformat": 4,
 "nbformat_minor": 4
}
